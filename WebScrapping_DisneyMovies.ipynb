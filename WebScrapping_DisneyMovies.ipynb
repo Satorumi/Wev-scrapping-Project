{
  "nbformat": 4,
  "nbformat_minor": 0,
  "metadata": {
    "colab": {
      "name": "WebScrapping_DisneyMovies.ipynb",
      "provenance": [],
      "authorship_tag": "ABX9TyOHkkfqoIGynGDiqOXNHXj1",
      "include_colab_link": true
    },
    "kernelspec": {
      "name": "python3",
      "display_name": "Python 3"
    },
    "language_info": {
      "name": "python"
    }
  },
  "cells": [
    {
      "cell_type": "markdown",
      "metadata": {
        "id": "view-in-github",
        "colab_type": "text"
      },
      "source": [
        "<a href=\"https://colab.research.google.com/github/Satorumi/Wev-scrapping-Project/blob/main/WebScrapping_DisneyMovies.ipynb\" target=\"_parent\"><img src=\"https://colab.research.google.com/assets/colab-badge.svg\" alt=\"Open In Colab\"/></a>"
      ]
    },
    {
      "cell_type": "markdown",
      "metadata": {
        "id": "AzihFkxoB_X2"
      },
      "source": [
        "### Import libraries"
      ]
    },
    {
      "cell_type": "code",
      "metadata": {
        "id": "U6Qt93W6CBVN"
      },
      "source": [
        "# import librabries and packages\n",
        "from bs4 import BeautifulSoup as bs\n",
        "import requests\n",
        "import pandas as pd\n",
        "import json\n",
        "import pickle\n",
        "from datetime import datetime\n",
        "import re\n",
        "import urllib\n",
        "import os"
      ],
      "execution_count": null,
      "outputs": []
    },
    {
      "cell_type": "markdown",
      "metadata": {
        "id": "bQR1AdFWESk7"
      },
      "source": [
        "### Task #1 - Scrape an infobox from a Movie wiki page "
      ]
    },
    {
      "cell_type": "markdown",
      "metadata": {
        "id": "by7ARDgrCyLH"
      },
      "source": [
        "Download and Retrieve webpage contents with `requests` and `BeautifulSoup`"
      ]
    },
    {
      "cell_type": "code",
      "metadata": {
        "id": "ep16YcKND6FF"
      },
      "source": [
        "# download Soul wiki page\n",
        "webpage = requests.get('https://en.wikipedia.org/wiki/Soul_(2020_film)')\n",
        "Soul = bs(webpage.content, \"lxml\")"
      ],
      "execution_count": null,
      "outputs": []
    },
    {
      "cell_type": "markdown",
      "metadata": {
        "id": "RjFd9fGNJvp-"
      },
      "source": [
        "Scrape a `table`"
      ]
    },
    {
      "cell_type": "code",
      "metadata": {
        "id": "zqiYDcHmJs1v"
      },
      "source": [
        "# define a function get values in a list\n",
        "def get_content_value(row):\n",
        "  if row.find('li'):\n",
        "    return [val.get_text(' ', strip=True).replace(\"\\xa0\", \" \") for val in row.find_all('li')]\n",
        "  else:\n",
        "    return row.get_text(' ', strip=True).replace(\"\\xa0\", \" \")"
      ],
      "execution_count": null,
      "outputs": []
    },
    {
      "cell_type": "code",
      "metadata": {
        "id": "uLzAe_nN_saq"
      },
      "source": [
        "# store in a dict\n",
        "Soul_info = {} \n",
        "info_box = Soul.find('table', class_ = 'infobox vevent')\n",
        "\n",
        "# find all table row\n",
        "rows = info_box.find_all('tr') \n",
        "for index, row in enumerate(rows): # loop through each row\n",
        "  if index == 0: # found the title\n",
        "    movie_info['Title'] = row.find('th').get_text().title()\n",
        "  elif index != 1:\n",
        "    content_key = row.find('th').get_text(' ', strip=True)\n",
        "    content_value = get_content_value(row.find('td'))\n",
        "    movie_info[content_key] = content_value"
      ],
      "execution_count": null,
      "outputs": []
    },
    {
      "cell_type": "markdown",
      "metadata": {
        "id": "zaluefGVKPww"
      },
      "source": [
        "Create a `DataFrame`"
      ]
    },
    {
      "cell_type": "code",
      "metadata": {
        "id": "bURXxFd1KNb9"
      },
      "source": [
        "Soul_df = pd.DataFrame(movie_info.values(), index=movie_info.keys())"
      ],
      "execution_count": null,
      "outputs": []
    },
    {
      "cell_type": "markdown",
      "metadata": {
        "id": "0YcCaos7ImMo"
      },
      "source": [
        "### Task #2 - Scrape infobox for all movies in List of Disney Films"
      ]
    },
    {
      "cell_type": "markdown",
      "metadata": {
        "id": "H-towY8OKbki"
      },
      "source": [
        "Download and retrieve page content"
      ]
    },
    {
      "cell_type": "code",
      "metadata": {
        "id": "hqF_kuOPJMhl"
      },
      "source": [
        "Disney_Movies = requests.get('https://en.wikipedia.org/wiki/List_of_Walt_Disney_Pictures_films')\n",
        "Disney = bs(Disney_Movies.content, \"lxml\")"
      ],
      "execution_count": null,
      "outputs": []
    },
    {
      "cell_type": "markdown",
      "metadata": {
        "id": "FkjoXaWzKfhJ"
      },
      "source": [
        "Get infobox for each movies in Disney Movies List"
      ]
    },
    {
      "cell_type": "code",
      "metadata": {
        "id": "uRNIc7mfKiZP"
      },
      "source": [
        "# define function to get the text\n",
        "def get_content_value(row):\n",
        "  if row.find(\"li\"):\n",
        "    return [li.get_text(\" \", strip=True).replace(\"\\xa0\", \" \") for li in row.find_all(\"li\")]\n",
        "  elif row.find(\"br\"):\n",
        "    return [text for text in row.stripped_strings]\n",
        "  else:\n",
        "    return row.get_text(\" \", strip=True).replace(\"\\xa0\", \" \")"
      ],
      "execution_count": null,
      "outputs": []
    },
    {
      "cell_type": "code",
      "metadata": {
        "id": "ipujapgSK8q7"
      },
      "source": [
        "# A function to strip out all references ([1],[2],etc) from HTML\n",
        "def clean_tags(soup):\n",
        "  for tag in soup.find_all([\"sup\", \"span\"]):\n",
        "    tag.decompose()"
      ],
      "execution_count": null,
      "outputs": []
    },
    {
      "cell_type": "code",
      "metadata": {
        "id": "a3GrYYfkLGP7"
      },
      "source": [
        "# function to get infobox\n",
        "def get_info_box(url):\n",
        "  response = requests.get(url)\n",
        "  page = bs(response.content, 'lxml')\n",
        "  info_box = page.find(class_=\"infobox vevent\")\n",
        "  rows = info_box.find_all(\"tr\")\n",
        "    \n",
        "  clean_tags(page)\n",
        "\n",
        "  movie_info = {}\n",
        "  for index, row in enumerate(rows):\n",
        "    if index == 0:\n",
        "      movie_info['Title'] = row.find(\"th\").get_text(\" \", strip=True).title()\n",
        "    else:\n",
        "      if row.find('th'):\n",
        "        content_key = row.find(\"th\").get_text(\" \", strip=True)\n",
        "        content_value = get_content_value(row.find(\"td\"))\n",
        "        movie_info[content_key] = content_value\n",
        "            \n",
        "  return movie_info"
      ],
      "execution_count": null,
      "outputs": []
    },
    {
      "cell_type": "code",
      "metadata": {
        "id": "rF95eDMwIYyR"
      },
      "source": [
        "# retrieve all movies links\n",
        "movies_list = Disney.select(\".wikitable.sortable i a\")\n",
        "base_path = \"https://en.wikipedia.org/\"\n",
        "\n",
        "# save as list of dictionaries\n",
        "movies_info = []\n",
        "\n",
        "# loop through each movie link\n",
        "for index, movie in enumerate(movies_list):\n",
        "  try:\n",
        "    relative_path = movie['href']\n",
        "    full_path = base_path + relative_path\n",
        "    title = movie['title']\n",
        "        \n",
        "    movies_info.append(get_info_box(full_path))\n",
        "        \n",
        "  except Exception as e: # movies without link\n",
        "    pass    "
      ],
      "execution_count": null,
      "outputs": []
    },
    {
      "cell_type": "code",
      "metadata": {
        "colab": {
          "base_uri": "https://localhost:8080/",
          "height": 35
        },
        "id": "uNDuawp5rsBY",
        "outputId": "6de67b39-7415-4ed7-83e2-af633300bf72"
      },
      "source": [
        "movies_info[0]['Title']"
      ],
      "execution_count": null,
      "outputs": [
        {
          "output_type": "execute_result",
          "data": {
            "application/vnd.google.colaboratory.intrinsic+json": {
              "type": "string"
            },
            "text/plain": [
              "'Academy Award Review Of'"
            ]
          },
          "metadata": {
            "tags": []
          },
          "execution_count": 16
        }
      ]
    },
    {
      "cell_type": "markdown",
      "metadata": {
        "id": "1lmKduLooI3v"
      },
      "source": [
        "### Task #3 - Cleaning Data"
      ]
    },
    {
      "cell_type": "markdown",
      "metadata": {
        "id": "4-4C5MpdR4PO"
      },
      "source": [
        "Convert `“Running time”` field to an `integer`"
      ]
    },
    {
      "cell_type": "code",
      "metadata": {
        "id": "Cm-SunG4R9q5"
      },
      "source": [
        "def minutes_to_integer(running_time):\n",
        "  if running_time == \"N/A\":\n",
        "    return None    \n",
        "  if isinstance(running_time, list):\n",
        "    return int(running_time[0].split(\" \")[0])\n",
        "  else: # is a string\n",
        "    return int(running_time.split(\" \")[0])"
      ],
      "execution_count": null,
      "outputs": []
    },
    {
      "cell_type": "markdown",
      "metadata": {
        "id": "R9uRWAEbSIfT"
      },
      "source": [
        "Convert `“Budget”` & `“Box office”` fields to `floats`"
      ]
    },
    {
      "cell_type": "code",
      "metadata": {
        "id": "cD0HW9ySSe74"
      },
      "source": [
        "# define regex pattern \n",
        "amounts = r\"thousand|million|billion\"\n",
        "number = r\"\\d+(,\\d{3})*\\.*\\d*\"\n",
        "word_re = fr\"\\${number}(-|\\sto\\s)?({number})?\\s({amounts})\""
      ],
      "execution_count": null,
      "outputs": []
    },
    {
      "cell_type": "code",
      "metadata": {
        "id": "gdeZ-gjrJXbp"
      },
      "source": [
        "def word_to_value(word):\n",
        "  value_dict = {\"thousand\": 1000, \"million\": 1000000, \"billion\": 1000000000}\n",
        "  return value_dict[word.lower()]\n",
        "\n",
        "def parse_word_syntax(string):\n",
        "  stripped_string = string.replace(\",\", \"\")\n",
        "  value = float(re.search(number, stripped_string).group())\n",
        "  modifier = word_to_value(re.search(amounts, string, flags=re.I).group())\n",
        "  return value * modifier\n",
        "\n",
        "def parse_value_syntax(string):\n",
        "  stripped_string = string.replace(\",\", \"\")\n",
        "  return float(re.search(number, stripped_string).group())\n",
        "\n",
        "def money_conversion(money):\n",
        "  if money == \"N/A\":\n",
        "    return None\n",
        "  if type(money) == list:\n",
        "    money = money[0]\n",
        "        \n",
        "  word_syntax = re.search(word_re, money, flags=re.I)\n",
        "  value_syntax = re.search(fr\"\\${number}\", money)\n",
        "\n",
        "  if word_syntax:\n",
        "    return parse_word_syntax(word_syntax.group())\n",
        "  elif value_syntax:\n",
        "    return parse_value_syntax(value_syntax.group())\n",
        "  else:\n",
        "    return None \n",
        " "
      ],
      "execution_count": null,
      "outputs": []
    },
    {
      "cell_type": "markdown",
      "metadata": {
        "id": "v7tQyQsZeaFO"
      },
      "source": [
        "Clean `datetime` column"
      ]
    },
    {
      "cell_type": "code",
      "metadata": {
        "id": "CAhfBUMheZ3X"
      },
      "source": [
        "def clean_date(date):\n",
        "  return date.split(\"(\")[0].strip()\n",
        "\n",
        "def date_conversion(date):\n",
        "  if isinstance(date, list):\n",
        "    date = date[0]        \n",
        "  if date == \"N/A\":\n",
        "        return None\n",
        "        \n",
        "  date_str = clean_date(date)\n",
        "  fmts = [\"%B %d, %Y\", \"%d %B %Y\"]\n",
        "  for fmt in fmts:\n",
        "    try:\n",
        "      return datetime.strptime(date_str, fmt)\n",
        "    except:\n",
        "      pass\n",
        "  return None"
      ],
      "execution_count": null,
      "outputs": []
    },
    {
      "cell_type": "markdown",
      "metadata": {
        "id": "h-_mvngFiCaS"
      },
      "source": [
        "Cleaning `movies_info` dictionary"
      ]
    },
    {
      "cell_type": "code",
      "metadata": {
        "id": "4onLDoiMbzto"
      },
      "source": [
        "for movie in movies_info:\n",
        "  movie['Running time'] = minutes_to_integer(movie.get('Running time', \"N/A\"))\n",
        "  movie['Budget'] = money_conversion(movie.get('Budget', \"N/A\"))\n",
        "  movie['Box office'] = money_conversion(movie.get('Box office', \"N/A\"))\n",
        "  movie['Release date'] = date_conversion(movie.get('Release date', 'N/A'))"
      ],
      "execution_count": null,
      "outputs": []
    },
    {
      "cell_type": "markdown",
      "metadata": {
        "id": "ia9P-jMjn_bh"
      },
      "source": [
        "### **Task #4** - Attach IMDB, Metascore, and Rotten Tomatoes scores to dataset\n",
        "\n",
        "> working with APIs\n",
        "\n",
        "\n"
      ]
    },
    {
      "cell_type": "code",
      "metadata": {
        "id": "bqowQMA5KV8F"
      },
      "source": [
        "def get_omdb_info(title):\n",
        "  base_url = 'http://www.omdbapi.com/?'\n",
        "  parameters = {\"apikey\": \"670a52d2\", \"t\": title}\n",
        "  params_encoded = urllib.parse.urlencode(parameters)\n",
        "  full_url = base_url + params_encoded\n",
        "  return requests.get(full_url).json()\n",
        "\n",
        "def get_rotten_tomato_score(omdb_info):\n",
        "  ratings = omdb_info.get('Ratings', []) # return an emty list if no rating\n",
        "  for rating in ratings:\n",
        "    if rating['Source'] == 'Rotten Tomatoes':\n",
        "      return 'N/A' if rating['Value'] == None else rating['Value']"
      ],
      "execution_count": null,
      "outputs": []
    },
    {
      "cell_type": "code",
      "metadata": {
        "id": "fe61gB7NeIXt"
      },
      "source": [
        "for movie in movies_info:\n",
        "  title = movie['Title']\n",
        "  omdb_info = get_omdb_info(title)\n",
        "  movie['Genre'] = omdb_info.get('Genre', 'N/A')\n",
        "  movie['Awards'] = omdb_info.get('Awards', 'N/A')\n",
        "  movie['Rated'] = omdb_info.get('Rated', 'N/A')\n",
        "  movie['Type'] = omdb_info.get('Type', 'N/A')\n",
        "  movie['IMDB'] = omdb_info.get('imdbRating', 'N/A')\n",
        "  movie['MetaScore'] = omdb_info.get('Metascore', 'N/A')\n",
        "  movie['Rotten Tomatoes'] = get_rotten_tomato_score(omdb_info)"
      ],
      "execution_count": null,
      "outputs": []
    },
    {
      "cell_type": "markdown",
      "metadata": {
        "id": "L2i5DQQZfwD1"
      },
      "source": [
        "### Task #5 - Create Disney Movies `DataFrame` and store as a `CSV` file"
      ]
    },
    {
      "cell_type": "code",
      "metadata": {
        "id": "hZHEFSrlfuGh"
      },
      "source": [
        "disney_movies_df = pd.DataFrame(movies_info)\n",
        "disney_movies_df.to_csv('disney_movies_data.csv')"
      ],
      "execution_count": null,
      "outputs": []
    },
    {
      "cell_type": "code",
      "metadata": {
        "id": "lqhxuyATsxCx",
        "colab": {
          "base_uri": "https://localhost:8080/",
          "height": 1000
        },
        "outputId": "d953334c-f134-45c2-a3b5-e6f037a7e75f"
      },
      "source": [
        "disney_movies_df"
      ],
      "execution_count": null,
      "outputs": [
        {
          "output_type": "execute_result",
          "data": {
            "text/html": [
              "<div>\n",
              "<style scoped>\n",
              "    .dataframe tbody tr th:only-of-type {\n",
              "        vertical-align: middle;\n",
              "    }\n",
              "\n",
              "    .dataframe tbody tr th {\n",
              "        vertical-align: top;\n",
              "    }\n",
              "\n",
              "    .dataframe thead th {\n",
              "        text-align: right;\n",
              "    }\n",
              "</style>\n",
              "<table border=\"1\" class=\"dataframe\">\n",
              "  <thead>\n",
              "    <tr style=\"text-align: right;\">\n",
              "      <th></th>\n",
              "      <th>Title</th>\n",
              "      <th>Production company</th>\n",
              "      <th>Release date</th>\n",
              "      <th>Running time</th>\n",
              "      <th>Country</th>\n",
              "      <th>Language</th>\n",
              "      <th>Box office</th>\n",
              "      <th>Budget</th>\n",
              "      <th>Genre</th>\n",
              "      <th>Awards</th>\n",
              "      <th>Rated</th>\n",
              "      <th>Type</th>\n",
              "      <th>IMDB</th>\n",
              "      <th>MetaScore</th>\n",
              "      <th>Rotten Tomatoes</th>\n",
              "      <th>Directed by</th>\n",
              "      <th>Written by</th>\n",
              "      <th>Based on</th>\n",
              "      <th>Produced by</th>\n",
              "      <th>Starring</th>\n",
              "      <th>Music by</th>\n",
              "      <th>Distributed by</th>\n",
              "      <th>Story by</th>\n",
              "      <th>Narrated by</th>\n",
              "      <th>Cinematography</th>\n",
              "      <th>Edited by</th>\n",
              "      <th>Languages</th>\n",
              "      <th>Screenplay by</th>\n",
              "      <th>Countries</th>\n",
              "      <th>Production companies</th>\n",
              "      <th>Color process</th>\n",
              "      <th>Japanese</th>\n",
              "      <th>Hepburn</th>\n",
              "      <th>Adaptation by</th>\n",
              "      <th>Animation by</th>\n",
              "      <th>Traditional</th>\n",
              "      <th>Simplified</th>\n",
              "    </tr>\n",
              "  </thead>\n",
              "  <tbody>\n",
              "    <tr>\n",
              "      <th>0</th>\n",
              "      <td>Academy Award Review Of</td>\n",
              "      <td>Walt Disney Productions</td>\n",
              "      <td>1937-05-19</td>\n",
              "      <td>41.0</td>\n",
              "      <td>United States</td>\n",
              "      <td>English</td>\n",
              "      <td>4.547200e+01</td>\n",
              "      <td>NaN</td>\n",
              "      <td>Animation, Short, Comedy</td>\n",
              "      <td>N/A</td>\n",
              "      <td>Approved</td>\n",
              "      <td>movie</td>\n",
              "      <td>7.1</td>\n",
              "      <td>N/A</td>\n",
              "      <td>None</td>\n",
              "      <td>NaN</td>\n",
              "      <td>NaN</td>\n",
              "      <td>NaN</td>\n",
              "      <td>NaN</td>\n",
              "      <td>NaN</td>\n",
              "      <td>NaN</td>\n",
              "      <td>NaN</td>\n",
              "      <td>NaN</td>\n",
              "      <td>NaN</td>\n",
              "      <td>NaN</td>\n",
              "      <td>NaN</td>\n",
              "      <td>NaN</td>\n",
              "      <td>NaN</td>\n",
              "      <td>NaN</td>\n",
              "      <td>NaN</td>\n",
              "      <td>NaN</td>\n",
              "      <td>NaN</td>\n",
              "      <td>NaN</td>\n",
              "      <td>NaN</td>\n",
              "      <td>NaN</td>\n",
              "      <td>NaN</td>\n",
              "      <td>NaN</td>\n",
              "    </tr>\n",
              "    <tr>\n",
              "      <th>1</th>\n",
              "      <td>Snow White And The Seven Dwarfs</td>\n",
              "      <td>Walt Disney Productions</td>\n",
              "      <td>1937-12-21</td>\n",
              "      <td>83.0</td>\n",
              "      <td>United States</td>\n",
              "      <td>English</td>\n",
              "      <td>4.180000e+08</td>\n",
              "      <td>1490000.0</td>\n",
              "      <td>Animation, Family, Fantasy</td>\n",
              "      <td>Won 1 Oscar. 11 wins &amp; 6 nominations total</td>\n",
              "      <td>Approved</td>\n",
              "      <td>movie</td>\n",
              "      <td>7.6</td>\n",
              "      <td>95</td>\n",
              "      <td>None</td>\n",
              "      <td>[David Hand, William Cottrell, Wilfred Jackson...</td>\n",
              "      <td>[Ted Sears, Richard Creedon, Otto Englander, D...</td>\n",
              "      <td>[Snow White, by The, Brothers Grimm]</td>\n",
              "      <td>Walt Disney</td>\n",
              "      <td>[Adriana Caselotti, Lucille La Verne, Harry St...</td>\n",
              "      <td>[Frank Churchill, Paul Smith, Leigh Harline]</td>\n",
              "      <td>RKO Radio Pictures</td>\n",
              "      <td>NaN</td>\n",
              "      <td>NaN</td>\n",
              "      <td>NaN</td>\n",
              "      <td>NaN</td>\n",
              "      <td>NaN</td>\n",
              "      <td>NaN</td>\n",
              "      <td>NaN</td>\n",
              "      <td>NaN</td>\n",
              "      <td>NaN</td>\n",
              "      <td>NaN</td>\n",
              "      <td>NaN</td>\n",
              "      <td>NaN</td>\n",
              "      <td>NaN</td>\n",
              "      <td>NaN</td>\n",
              "      <td>NaN</td>\n",
              "    </tr>\n",
              "    <tr>\n",
              "      <th>2</th>\n",
              "      <td>Pinocchio</td>\n",
              "      <td>Walt Disney Productions</td>\n",
              "      <td>1940-02-07</td>\n",
              "      <td>88.0</td>\n",
              "      <td>United States</td>\n",
              "      <td>English</td>\n",
              "      <td>1.640000e+08</td>\n",
              "      <td>2600000.0</td>\n",
              "      <td>Animation, Comedy, Family</td>\n",
              "      <td>Won 2 Oscars. 7 wins total</td>\n",
              "      <td>G</td>\n",
              "      <td>movie</td>\n",
              "      <td>7.4</td>\n",
              "      <td>99</td>\n",
              "      <td>73%</td>\n",
              "      <td>[Ben Sharpsteen, Hamilton Luske, Bill Roberts,...</td>\n",
              "      <td>NaN</td>\n",
              "      <td>[The Adventures of Pinocchio, by, Carlo Collodi]</td>\n",
              "      <td>Walt Disney</td>\n",
              "      <td>[Cliff Edwards, Dickie Jones, Christian Rub, W...</td>\n",
              "      <td>[Leigh Harline, Paul J. Smith]</td>\n",
              "      <td>RKO Radio Pictures</td>\n",
              "      <td>[Ted Sears, Otto Englander, Webb Smith, Willia...</td>\n",
              "      <td>NaN</td>\n",
              "      <td>NaN</td>\n",
              "      <td>NaN</td>\n",
              "      <td>NaN</td>\n",
              "      <td>NaN</td>\n",
              "      <td>NaN</td>\n",
              "      <td>NaN</td>\n",
              "      <td>NaN</td>\n",
              "      <td>NaN</td>\n",
              "      <td>NaN</td>\n",
              "      <td>NaN</td>\n",
              "      <td>NaN</td>\n",
              "      <td>NaN</td>\n",
              "      <td>NaN</td>\n",
              "    </tr>\n",
              "    <tr>\n",
              "      <th>3</th>\n",
              "      <td>Fantasia</td>\n",
              "      <td>Walt Disney Productions</td>\n",
              "      <td>1940-11-13</td>\n",
              "      <td>126.0</td>\n",
              "      <td>United States</td>\n",
              "      <td>English</td>\n",
              "      <td>8.330000e+07</td>\n",
              "      <td>2280000.0</td>\n",
              "      <td>Animation, Family, Fantasy</td>\n",
              "      <td>Won 2 Oscars. 8 wins &amp; 1 nomination total</td>\n",
              "      <td>G</td>\n",
              "      <td>movie</td>\n",
              "      <td>7.7</td>\n",
              "      <td>96</td>\n",
              "      <td>95%</td>\n",
              "      <td>[Samuel Armstrong, James Algar, Bill Roberts, ...</td>\n",
              "      <td>NaN</td>\n",
              "      <td>NaN</td>\n",
              "      <td>[Walt Disney, Ben Sharpsteen]</td>\n",
              "      <td>[Leopold Stokowski, Deems Taylor]</td>\n",
              "      <td>See program</td>\n",
              "      <td>RKO Radio Pictures</td>\n",
              "      <td>[Joe Grant, Dick Huemer]</td>\n",
              "      <td>Deems Taylor</td>\n",
              "      <td>James Wong Howe</td>\n",
              "      <td>NaN</td>\n",
              "      <td>NaN</td>\n",
              "      <td>NaN</td>\n",
              "      <td>NaN</td>\n",
              "      <td>NaN</td>\n",
              "      <td>NaN</td>\n",
              "      <td>NaN</td>\n",
              "      <td>NaN</td>\n",
              "      <td>NaN</td>\n",
              "      <td>NaN</td>\n",
              "      <td>NaN</td>\n",
              "      <td>NaN</td>\n",
              "    </tr>\n",
              "    <tr>\n",
              "      <th>4</th>\n",
              "      <td>The Reluctant Dragon</td>\n",
              "      <td>Walt Disney Productions</td>\n",
              "      <td>1941-06-27</td>\n",
              "      <td>74.0</td>\n",
              "      <td>United States</td>\n",
              "      <td>English</td>\n",
              "      <td>9.600000e+05</td>\n",
              "      <td>600000.0</td>\n",
              "      <td>Animation, Comedy, Family</td>\n",
              "      <td>N/A</td>\n",
              "      <td>Approved</td>\n",
              "      <td>movie</td>\n",
              "      <td>6.9</td>\n",
              "      <td>N/A</td>\n",
              "      <td>67%</td>\n",
              "      <td>[Alfred Werker, (live action), Hamilton Luske,...</td>\n",
              "      <td>[Live-action:, Ted Sears, Al Perkins, Larry Cl...</td>\n",
              "      <td>NaN</td>\n",
              "      <td>Walt Disney</td>\n",
              "      <td>[Robert Benchley, Frances Gifford, Buddy Peppe...</td>\n",
              "      <td>[Frank Churchill, Larry Morey]</td>\n",
              "      <td>RKO Radio Pictures</td>\n",
              "      <td>NaN</td>\n",
              "      <td>NaN</td>\n",
              "      <td>Bert Glennon</td>\n",
              "      <td>Paul Weatherwax</td>\n",
              "      <td>NaN</td>\n",
              "      <td>NaN</td>\n",
              "      <td>NaN</td>\n",
              "      <td>NaN</td>\n",
              "      <td>NaN</td>\n",
              "      <td>NaN</td>\n",
              "      <td>NaN</td>\n",
              "      <td>NaN</td>\n",
              "      <td>NaN</td>\n",
              "      <td>NaN</td>\n",
              "      <td>NaN</td>\n",
              "    </tr>\n",
              "    <tr>\n",
              "      <th>...</th>\n",
              "      <td>...</td>\n",
              "      <td>...</td>\n",
              "      <td>...</td>\n",
              "      <td>...</td>\n",
              "      <td>...</td>\n",
              "      <td>...</td>\n",
              "      <td>...</td>\n",
              "      <td>...</td>\n",
              "      <td>...</td>\n",
              "      <td>...</td>\n",
              "      <td>...</td>\n",
              "      <td>...</td>\n",
              "      <td>...</td>\n",
              "      <td>...</td>\n",
              "      <td>...</td>\n",
              "      <td>...</td>\n",
              "      <td>...</td>\n",
              "      <td>...</td>\n",
              "      <td>...</td>\n",
              "      <td>...</td>\n",
              "      <td>...</td>\n",
              "      <td>...</td>\n",
              "      <td>...</td>\n",
              "      <td>...</td>\n",
              "      <td>...</td>\n",
              "      <td>...</td>\n",
              "      <td>...</td>\n",
              "      <td>...</td>\n",
              "      <td>...</td>\n",
              "      <td>...</td>\n",
              "      <td>...</td>\n",
              "      <td>...</td>\n",
              "      <td>...</td>\n",
              "      <td>...</td>\n",
              "      <td>...</td>\n",
              "      <td>...</td>\n",
              "      <td>...</td>\n",
              "    </tr>\n",
              "    <tr>\n",
              "      <th>444</th>\n",
              "      <td>The Little Mermaid</td>\n",
              "      <td>NaN</td>\n",
              "      <td>NaT</td>\n",
              "      <td>NaN</td>\n",
              "      <td>United States</td>\n",
              "      <td>English</td>\n",
              "      <td>NaN</td>\n",
              "      <td>NaN</td>\n",
              "      <td>Animation, Family, Fantasy</td>\n",
              "      <td>Won 2 Oscars. 14 wins &amp; 8 nominations total</td>\n",
              "      <td>G</td>\n",
              "      <td>movie</td>\n",
              "      <td>7.6</td>\n",
              "      <td>88</td>\n",
              "      <td>93%</td>\n",
              "      <td>Rob Marshall</td>\n",
              "      <td>NaN</td>\n",
              "      <td>[Disney, 's, The Little Mermaid, by, Ron Cleme...</td>\n",
              "      <td>[Rob Marshall, John DeLuca, Marc Platt, Lin-Ma...</td>\n",
              "      <td>[Halle Bailey, Jonah Hauer-King, Daveed Diggs,...</td>\n",
              "      <td>Alan Menken</td>\n",
              "      <td>[Walt Disney Studios, Motion Pictures]</td>\n",
              "      <td>NaN</td>\n",
              "      <td>NaN</td>\n",
              "      <td>Dion Beebe</td>\n",
              "      <td>Wyatt Smith</td>\n",
              "      <td>NaN</td>\n",
              "      <td>[Jane Goldman, David Magee]</td>\n",
              "      <td>NaN</td>\n",
              "      <td>[Walt Disney Pictures, Lucamar Productions, Ma...</td>\n",
              "      <td>NaN</td>\n",
              "      <td>NaN</td>\n",
              "      <td>NaN</td>\n",
              "      <td>NaN</td>\n",
              "      <td>NaN</td>\n",
              "      <td>NaN</td>\n",
              "      <td>NaN</td>\n",
              "    </tr>\n",
              "    <tr>\n",
              "      <th>445</th>\n",
              "      <td>Shrunk</td>\n",
              "      <td>NaN</td>\n",
              "      <td>NaT</td>\n",
              "      <td>NaN</td>\n",
              "      <td>United States</td>\n",
              "      <td>English</td>\n",
              "      <td>NaN</td>\n",
              "      <td>NaN</td>\n",
              "      <td>Short, Drama</td>\n",
              "      <td>N/A</td>\n",
              "      <td>N/A</td>\n",
              "      <td>movie</td>\n",
              "      <td>N/A</td>\n",
              "      <td>N/A</td>\n",
              "      <td>None</td>\n",
              "      <td>Joe Johnston</td>\n",
              "      <td>NaN</td>\n",
              "      <td>[Characters, by, Stuart Gordon, ,, Brian Yuzna...</td>\n",
              "      <td>[David Hoberman, Todd Lieberman]</td>\n",
              "      <td>[Josh Gad, Rick Moranis]</td>\n",
              "      <td>NaN</td>\n",
              "      <td>[Walt Disney Studios, Motion Pictures]</td>\n",
              "      <td>[Josh Gad, Ryan Dixon, Ian Helfer, Jay Reiss]</td>\n",
              "      <td>NaN</td>\n",
              "      <td>NaN</td>\n",
              "      <td>NaN</td>\n",
              "      <td>NaN</td>\n",
              "      <td>Todd Rosenberg</td>\n",
              "      <td>NaN</td>\n",
              "      <td>[Walt Disney Pictures, Mandeville Films]</td>\n",
              "      <td>NaN</td>\n",
              "      <td>NaN</td>\n",
              "      <td>NaN</td>\n",
              "      <td>NaN</td>\n",
              "      <td>NaN</td>\n",
              "      <td>NaN</td>\n",
              "      <td>NaN</td>\n",
              "    </tr>\n",
              "    <tr>\n",
              "      <th>446</th>\n",
              "      <td>Chip 'N Dale: Rescue Rangers</td>\n",
              "      <td>NaN</td>\n",
              "      <td>NaT</td>\n",
              "      <td>NaN</td>\n",
              "      <td>United States</td>\n",
              "      <td>English</td>\n",
              "      <td>NaN</td>\n",
              "      <td>NaN</td>\n",
              "      <td>Animation, Adventure, Comedy, Family, Mystery</td>\n",
              "      <td>1 nomination.</td>\n",
              "      <td>TV-Y</td>\n",
              "      <td>series</td>\n",
              "      <td>7.6</td>\n",
              "      <td>N/A</td>\n",
              "      <td>None</td>\n",
              "      <td>Akiva Schaffer</td>\n",
              "      <td>NaN</td>\n",
              "      <td>[Chip 'n Dale: Rescue Rangers, by, Tad Stones,...</td>\n",
              "      <td>[David Hoberman, Todd Lieberman]</td>\n",
              "      <td>[Andy Samberg, John Mulaney]</td>\n",
              "      <td>Brian Tyler</td>\n",
              "      <td>Walt Disney Studios Motion Pictures</td>\n",
              "      <td>Barry Schwartz</td>\n",
              "      <td>NaN</td>\n",
              "      <td>Larry Fong</td>\n",
              "      <td>NaN</td>\n",
              "      <td>NaN</td>\n",
              "      <td>[Dan Gregor, Doug Mand]</td>\n",
              "      <td>NaN</td>\n",
              "      <td>[Walt Disney Pictures, Mandeville Films]</td>\n",
              "      <td>NaN</td>\n",
              "      <td>NaN</td>\n",
              "      <td>NaN</td>\n",
              "      <td>NaN</td>\n",
              "      <td>NaN</td>\n",
              "      <td>NaN</td>\n",
              "      <td>NaN</td>\n",
              "    </tr>\n",
              "    <tr>\n",
              "      <th>447</th>\n",
              "      <td>Pinocchio</td>\n",
              "      <td>NaN</td>\n",
              "      <td>NaT</td>\n",
              "      <td>NaN</td>\n",
              "      <td>United States</td>\n",
              "      <td>English</td>\n",
              "      <td>NaN</td>\n",
              "      <td>NaN</td>\n",
              "      <td>Animation, Comedy, Family</td>\n",
              "      <td>Won 2 Oscars. 7 wins total</td>\n",
              "      <td>G</td>\n",
              "      <td>movie</td>\n",
              "      <td>7.4</td>\n",
              "      <td>99</td>\n",
              "      <td>73%</td>\n",
              "      <td>Robert Zemeckis</td>\n",
              "      <td>NaN</td>\n",
              "      <td>[Disney, 's, Pinocchio, The Adventures of Pino...</td>\n",
              "      <td>[Chris Weitz, Andrew Milano]</td>\n",
              "      <td>[Tom Hanks, Benjamin Evan Ainsworth, Joseph Go...</td>\n",
              "      <td>Alan Silvestri</td>\n",
              "      <td>Walt Disney Studios Motion Pictures</td>\n",
              "      <td>NaN</td>\n",
              "      <td>NaN</td>\n",
              "      <td>NaN</td>\n",
              "      <td>NaN</td>\n",
              "      <td>NaN</td>\n",
              "      <td>[Chris Weitz, Robert Zemeckis]</td>\n",
              "      <td>NaN</td>\n",
              "      <td>[Walt Disney Pictures, Depth of Field, ImageMo...</td>\n",
              "      <td>NaN</td>\n",
              "      <td>NaN</td>\n",
              "      <td>NaN</td>\n",
              "      <td>NaN</td>\n",
              "      <td>NaN</td>\n",
              "      <td>NaN</td>\n",
              "      <td>NaN</td>\n",
              "    </tr>\n",
              "    <tr>\n",
              "      <th>448</th>\n",
              "      <td>Hollywood Stargirl</td>\n",
              "      <td>NaN</td>\n",
              "      <td>NaT</td>\n",
              "      <td>NaN</td>\n",
              "      <td>United States</td>\n",
              "      <td>English</td>\n",
              "      <td>NaN</td>\n",
              "      <td>NaN</td>\n",
              "      <td>N/A</td>\n",
              "      <td>N/A</td>\n",
              "      <td>N/A</td>\n",
              "      <td>N/A</td>\n",
              "      <td>N/A</td>\n",
              "      <td>N/A</td>\n",
              "      <td>None</td>\n",
              "      <td>Julia Hart</td>\n",
              "      <td>NaN</td>\n",
              "      <td>NaN</td>\n",
              "      <td>[Ellen Goldsmith-Vein, Lee Stollman]</td>\n",
              "      <td>[Elijah Richardson, Grace VanderWaal, Tyrel Ja...</td>\n",
              "      <td>NaN</td>\n",
              "      <td>Disney+</td>\n",
              "      <td>NaN</td>\n",
              "      <td>NaN</td>\n",
              "      <td>NaN</td>\n",
              "      <td>NaN</td>\n",
              "      <td>NaN</td>\n",
              "      <td>[Jordan Horowitz, Julia Hart]</td>\n",
              "      <td>NaN</td>\n",
              "      <td>[Walt Disney Pictures, Gotham Group]</td>\n",
              "      <td>NaN</td>\n",
              "      <td>NaN</td>\n",
              "      <td>NaN</td>\n",
              "      <td>NaN</td>\n",
              "      <td>NaN</td>\n",
              "      <td>NaN</td>\n",
              "      <td>NaN</td>\n",
              "    </tr>\n",
              "  </tbody>\n",
              "</table>\n",
              "<p>449 rows × 37 columns</p>\n",
              "</div>"
            ],
            "text/plain": [
              "                               Title  ... Simplified\n",
              "0            Academy Award Review Of  ...        NaN\n",
              "1    Snow White And The Seven Dwarfs  ...        NaN\n",
              "2                          Pinocchio  ...        NaN\n",
              "3                           Fantasia  ...        NaN\n",
              "4               The Reluctant Dragon  ...        NaN\n",
              "..                               ...  ...        ...\n",
              "444               The Little Mermaid  ...        NaN\n",
              "445                           Shrunk  ...        NaN\n",
              "446     Chip 'N Dale: Rescue Rangers  ...        NaN\n",
              "447                        Pinocchio  ...        NaN\n",
              "448               Hollywood Stargirl  ...        NaN\n",
              "\n",
              "[449 rows x 37 columns]"
            ]
          },
          "metadata": {
            "tags": []
          },
          "execution_count": 26
        }
      ]
    },
    {
      "cell_type": "markdown",
      "metadata": {
        "id": "O6ESHwQXMKEh"
      },
      "source": [
        "### Save and Load Data"
      ]
    },
    {
      "cell_type": "markdown",
      "metadata": {
        "id": "eZzzm3DML90R"
      },
      "source": [
        "Define function to save and load data with `json`"
      ]
    },
    {
      "cell_type": "code",
      "metadata": {
        "id": "n3Py8J-kRis_"
      },
      "source": [
        "# Save & Load dataset checkpoint (JSON file)\n",
        "def save_data_json(title, data):\n",
        "  with open(title, 'w', encoding='utf-8') as f:\n",
        "    json.dump(data, f, ensure_ascii=False, indent=2)\n",
        "        \n",
        "def load_data_json(title):\n",
        "  with open(title, encoding=\"utf-8\") as f:\n",
        "    return json.load(f)"
      ],
      "execution_count": null,
      "outputs": []
    },
    {
      "cell_type": "code",
      "metadata": {
        "id": "9E8w99sgMJny"
      },
      "source": [
        "save_data_json(\"disney_movies_data.json\", movies_info)"
      ],
      "execution_count": null,
      "outputs": []
    },
    {
      "cell_type": "markdown",
      "metadata": {
        "id": "_u1ffbamb-nF"
      },
      "source": [
        "load and save data with `pickle`"
      ]
    },
    {
      "cell_type": "code",
      "metadata": {
        "id": "EuCqYsjLb37M"
      },
      "source": [
        "def save_data_pickle(filename, data):\n",
        "  with open(filename, 'wb') as f:\n",
        "    pickle.dump(data, f)\n",
        "\n",
        "def load_data_pickle(filename):\n",
        "  with open(filename, 'rb') as f:\n",
        "    return pickle.load(f)"
      ],
      "execution_count": null,
      "outputs": []
    },
    {
      "cell_type": "code",
      "metadata": {
        "id": "aY3MUrhMiW03"
      },
      "source": [
        "save_data_pickle(\"disney_movie_data.pickle\", movies_info)"
      ],
      "execution_count": null,
      "outputs": []
    }
  ]
}